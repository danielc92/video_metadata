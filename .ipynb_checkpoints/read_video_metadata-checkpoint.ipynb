{
 "cells": [
  {
   "cell_type": "markdown",
   "metadata": {},
   "source": [
    "# Obtaining the metadata for video file"
   ]
  },
  {
   "cell_type": "markdown",
   "metadata": {},
   "source": [
    "### import modules"
   ]
  },
  {
   "cell_type": "code",
   "execution_count": 1,
   "metadata": {},
   "outputs": [],
   "source": [
    "import os\n",
    "os.environ['PATH'] = os.path.dirname('C:\\\\Users\\\\Daniel\\\\Desktop\\\\video_process\\\\MediaInfo Library\\\\Mediainfo.dll') + ';' + os.environ['PATH']"
   ]
  },
  {
   "cell_type": "code",
   "execution_count": 2,
   "metadata": {},
   "outputs": [],
   "source": [
    "from pymediainfo import MediaInfo"
   ]
  },
  {
   "cell_type": "markdown",
   "metadata": {},
   "source": [
    "### set input folder"
   ]
  },
  {
   "cell_type": "code",
   "execution_count": 3,
   "metadata": {},
   "outputs": [],
   "source": [
    "folder_path = \"C:\\\\users\\\\daniel\\\\Desktop\\\\testwebms\\\\\""
   ]
  },
  {
   "cell_type": "markdown",
   "metadata": {},
   "source": [
    "### loop through files in input folder, extracting desired metrics"
   ]
  },
  {
   "cell_type": "code",
   "execution_count": 4,
   "metadata": {},
   "outputs": [
    {
     "name": "stdout",
     "output_type": "stream",
     "text": [
      "******************************\n",
      "test403.webm\n",
      "2649768\n",
      "254\n",
      "448\n",
      "34000.000000\n",
      "1.772\n",
      "******************************\n",
      "test404.webm\n",
      "2253708\n",
      "614\n",
      "720\n",
      "29196\n",
      "1.173\n",
      "******************************\n",
      "test405.webm\n",
      "3847589\n",
      "360\n",
      "640\n",
      "59292\n",
      "1.778\n",
      "******************************\n",
      "test504.webm\n",
      "1223012\n",
      "480\n",
      "480\n",
      "6567\n",
      "1.000\n",
      "******************************\n",
      "test605.webm\n",
      "809332\n",
      "360\n",
      "640\n",
      "8967\n",
      "1.778\n"
     ]
    }
   ],
   "source": [
    "for filename in os.listdir(folder_path):\n",
    "    if \".webm\" in filename:\n",
    "        \n",
    "        fullpath = folder_path + filename\n",
    "        pymObject = MediaInfo.parse(fullpath)\n",
    "        data = pymObject.to_data()\n",
    "        \n",
    "        file_size = data[\"tracks\"][0][\"file_size\"]\n",
    "        height = data[\"tracks\"][1][\"height\"]\n",
    "        width = data[\"tracks\"][1][\"width\"]\n",
    "        duration = data[\"tracks\"][1][\"duration\"]\n",
    "        display_aspect_ratio = data[\"tracks\"][1][\"display_aspect_ratio\"]\n",
    "\n",
    "        print(\"*\" * 30,\n",
    "              filename, \n",
    "              file_size, \n",
    "              height, \n",
    "              width, \n",
    "              duration, \n",
    "              display_aspect_ratio, \n",
    "              sep = \"\\n\")\n",
    "        \n",
    "       "
   ]
  },
  {
   "cell_type": "markdown",
   "metadata": {},
   "source": [
    "## Exploration Test "
   ]
  },
  {
   "cell_type": "code",
   "execution_count": 5,
   "metadata": {},
   "outputs": [],
   "source": [
    "testpath =  \"C:\\\\users\\\\daniel\\\\Desktop\\\\testwebms\\\\1532545493627.webm\""
   ]
  },
  {
   "cell_type": "code",
   "execution_count": 6,
   "metadata": {},
   "outputs": [
    {
     "name": "stdout",
     "output_type": "stream",
     "text": [
      "{'track_type': 'General', 'count': '330', 'count_of_stream_of_this_kind': '1', 'kind_of_stream': 'General', 'other_kind_of_stream': ['General'], 'stream_identifier': '0', 'unique_id': 36721718816845720137634700263706120713, 'other_unique_id': ['36721718816845720137634700263706120713 (0x1BA058858DD67C479AA3A6171090D209)'], 'count_of_video_streams': '1', 'count_of_audio_streams': '1', 'video_format_list': 'VP8', 'video_format_withhint_list': 'VP8', 'codecs_video': 'V_VP8', 'audio_format_list': 'Vorbis', 'audio_format_withhint_list': 'Vorbis', 'audio_codecs': 'Vorbis', 'complete_name': 'C:\\\\users\\\\daniel\\\\Desktop\\\\testwebms\\\\test605.webm', 'folder_name': 'C:\\\\users\\\\daniel\\\\Desktop\\\\testwebms', 'file_name': 'test605.webm', 'other_file_name': ['test605'], 'file_extension': 'webm', 'format': 'WebM', 'other_format': ['WebM'], 'format_url': 'http://www.webmproject.org/', 'format_extensions_usually_used': 'webm', 'commercial_name': 'WebM', 'format_version': 'Version 2', 'internet_media_type': 'video/webm', 'codec': 'WebM', 'other_codec': ['WebM'], 'codec_url': 'http://www.webmproject.org/', 'codec_extensions_usually_used': 'webm', 'file_size': 809332, 'other_file_size': ['790 KiB', '790 KiB', '790 KiB', '790 KiB', '790.4 KiB'], 'duration': 8967, 'other_duration': ['8 s 967 ms', '8 s 967 ms', '8 s 967 ms', '00:00:08.967', '00:00:08:29', '00:00:08.967 (00:00:08:29)'], 'overall_bit_rate_mode': 'VBR', 'other_overall_bit_rate_mode': ['Variable'], 'overall_bit_rate': 722054, 'other_overall_bit_rate': ['722 kb/s'], 'frame_rate': '30.000', 'other_frame_rate': ['30.000 FPS'], 'frame_count': '269', 'stream_size': 42003, 'other_stream_size': ['41.0 KiB (5%)', '41 KiB', '41 KiB', '41.0 KiB', '41.02 KiB', '41.0 KiB (5%)'], 'proportion_of_this_stream': '0.05190', 'isstreamable': 'Yes', 'file_creation_date': 'UTC 2018-07-26 09:32:58.348', 'file_creation_date__local': '2018-07-26 19:32:58.348', 'file_last_modification_date': 'UTC 2018-07-26 09:32:58.395', 'file_last_modification_date__local': '2018-07-26 19:32:58.395', 'writing_application': 'Google', 'other_writing_application': ['Google'], 'writing_library': 'Google', 'other_writing_library': ['Google']}\n",
      "{'track_type': 'Video', 'count': '344', 'count_of_stream_of_this_kind': '1', 'kind_of_stream': 'Video', 'other_kind_of_stream': ['Video'], 'stream_identifier': '0', 'streamorder': '0', 'track_id': 1, 'other_track_id': ['1'], 'unique_id': '1', 'format': 'VP8', 'format_url': 'http://www.webmproject.org/', 'commercial_name': 'VP8', 'codec_id': 'V_VP8', 'codec_id_url': 'http://www.webmproject.org/', 'codec': 'V_VP8', 'other_codec': ['V_VP8'], 'duration': 8967, 'other_duration': ['8 s 967 ms', '8 s 967 ms', '8 s 967 ms', '00:00:08.967', '00:00:08:29', '00:00:08.967 (00:00:08:29)'], 'bit_rate': 556601, 'other_bit_rate': ['557 kb/s'], 'width': 640, 'other_width': ['640 pixels'], 'height': 360, 'other_height': ['360 pixels'], 'pixel_aspect_ratio': '1.000', 'display_aspect_ratio': '1.778', 'other_display_aspect_ratio': ['16:9'], 'frame_rate_mode': 'CFR', 'other_frame_rate_mode': ['Constant'], 'frame_rate': '30.000', 'other_frame_rate': ['30.000 FPS'], 'frame_count': '269', 'compression_mode': 'Lossy', 'other_compression_mode': ['Lossy'], 'bits__pixel_frame': '0.081', 'delay': 25, 'other_delay': ['25 ms', '25 ms', '25 ms', '00:00:00.025'], 'delay__origin': 'Container', 'other_delay__origin': ['Container'], 'stream_size': 623857, 'other_stream_size': ['609 KiB (77%)', '609 KiB', '609 KiB', '609 KiB', '609.2 KiB', '609 KiB (77%)'], 'proportion_of_this_stream': '0.77083', 'default': 'Yes', 'other_default': ['Yes'], 'forced': 'No', 'other_forced': ['No']}\n",
      "{'track_type': 'Audio', 'count': '275', 'count_of_stream_of_this_kind': '1', 'kind_of_stream': 'Audio', 'other_kind_of_stream': ['Audio'], 'stream_identifier': '0', 'streamorder': '1', 'track_id': 2, 'other_track_id': ['2'], 'unique_id': '2', 'format': 'Vorbis', 'format_url': 'http://www.vorbis.com/', 'commercial_name': 'Vorbis', 'format_settings__floor': '1', 'internet_media_type': 'audio/vorbis', 'codec_id': 'A_VORBIS', 'codec_id_url': 'http://www.vorbis.com', 'codec': 'Vorbis', 'other_codec': ['Vorbis'], 'codec_family': 'Vorbis', 'codec_url': 'http://www.vorbis.com', 'codec_settings__floor': '1', 'duration': 8967, 'other_duration': ['8 s 967 ms', '8 s 967 ms', '8 s 967 ms', '00:00:08.967', '00:00:08.967'], 'bit_rate_mode': 'VBR', 'other_bit_rate_mode': ['Variable'], 'bit_rate': 128000, 'other_bit_rate': ['128 kb/s'], 'channel_s': 2, 'other_channel_s': ['2 channels'], 'sampling_rate': 44100, 'other_sampling_rate': ['44.1 kHz'], 'samples_count': '395445', 'compression_mode': 'Lossy', 'other_compression_mode': ['Lossy'], 'delay': 0, 'other_delay': ['00:00:00.000'], 'delay__origin': 'Container', 'other_delay__origin': ['Container'], 'delay_relative_to_video': -25, 'other_delay_relative_to_video': ['-25 ms', '-25 ms', '-25 ms', '-00:00:00.025'], 'video0_delay': -25, 'other_video0_delay': ['-25 ms', '-25 ms', '-25 ms', '-00:00:00.025'], 'stream_size': 143472, 'other_stream_size': ['140 KiB (18%)', '140 KiB', '140 KiB', '140 KiB', '140.1 KiB', '140 KiB (18%)'], 'proportion_of_this_stream': '0.17727', 'writing_application': 'Google', 'other_writing_application': ['Google'], 'default': 'Yes', 'other_default': ['Yes'], 'forced': 'No', 'other_forced': ['No']}\n"
     ]
    }
   ],
   "source": [
    "for dicti in data[\"tracks\"]:\n",
    "    print(dicti)"
   ]
  },
  {
   "cell_type": "code",
   "execution_count": 7,
   "metadata": {},
   "outputs": [],
   "source": [
    "file_size = data[\"tracks\"][0][\"file_size\"]\n",
    "height = data[\"tracks\"][1][\"height\"]\n",
    "width = data[\"tracks\"][1][\"width\"]\n",
    "duraction = data[\"tracks\"][1][\"duration\"]\n",
    "display_aspect_ratio = data[\"tracks\"][1][\"display_aspect_ratio\"]"
   ]
  },
  {
   "cell_type": "code",
   "execution_count": 8,
   "metadata": {},
   "outputs": [
    {
     "data": {
      "text/plain": [
       "3"
      ]
     },
     "execution_count": 8,
     "metadata": {},
     "output_type": "execute_result"
    }
   ],
   "source": [
    "len(data[\"tracks\"])"
   ]
  },
  {
   "cell_type": "code",
   "execution_count": 9,
   "metadata": {},
   "outputs": [
    {
     "data": {
      "text/plain": [
       "{'track_type': 'General',\n",
       " 'count': '330',\n",
       " 'count_of_stream_of_this_kind': '1',\n",
       " 'kind_of_stream': 'General',\n",
       " 'other_kind_of_stream': ['General'],\n",
       " 'stream_identifier': '0',\n",
       " 'unique_id': 36721718816845720137634700263706120713,\n",
       " 'other_unique_id': ['36721718816845720137634700263706120713 (0x1BA058858DD67C479AA3A6171090D209)'],\n",
       " 'count_of_video_streams': '1',\n",
       " 'count_of_audio_streams': '1',\n",
       " 'video_format_list': 'VP8',\n",
       " 'video_format_withhint_list': 'VP8',\n",
       " 'codecs_video': 'V_VP8',\n",
       " 'audio_format_list': 'Vorbis',\n",
       " 'audio_format_withhint_list': 'Vorbis',\n",
       " 'audio_codecs': 'Vorbis',\n",
       " 'complete_name': 'C:\\\\users\\\\daniel\\\\Desktop\\\\testwebms\\\\test605.webm',\n",
       " 'folder_name': 'C:\\\\users\\\\daniel\\\\Desktop\\\\testwebms',\n",
       " 'file_name': 'test605.webm',\n",
       " 'other_file_name': ['test605'],\n",
       " 'file_extension': 'webm',\n",
       " 'format': 'WebM',\n",
       " 'other_format': ['WebM'],\n",
       " 'format_url': 'http://www.webmproject.org/',\n",
       " 'format_extensions_usually_used': 'webm',\n",
       " 'commercial_name': 'WebM',\n",
       " 'format_version': 'Version 2',\n",
       " 'internet_media_type': 'video/webm',\n",
       " 'codec': 'WebM',\n",
       " 'other_codec': ['WebM'],\n",
       " 'codec_url': 'http://www.webmproject.org/',\n",
       " 'codec_extensions_usually_used': 'webm',\n",
       " 'file_size': 809332,\n",
       " 'other_file_size': ['790 KiB', '790 KiB', '790 KiB', '790 KiB', '790.4 KiB'],\n",
       " 'duration': 8967,\n",
       " 'other_duration': ['8 s 967 ms',\n",
       "  '8 s 967 ms',\n",
       "  '8 s 967 ms',\n",
       "  '00:00:08.967',\n",
       "  '00:00:08:29',\n",
       "  '00:00:08.967 (00:00:08:29)'],\n",
       " 'overall_bit_rate_mode': 'VBR',\n",
       " 'other_overall_bit_rate_mode': ['Variable'],\n",
       " 'overall_bit_rate': 722054,\n",
       " 'other_overall_bit_rate': ['722 kb/s'],\n",
       " 'frame_rate': '30.000',\n",
       " 'other_frame_rate': ['30.000 FPS'],\n",
       " 'frame_count': '269',\n",
       " 'stream_size': 42003,\n",
       " 'other_stream_size': ['41.0 KiB (5%)',\n",
       "  '41 KiB',\n",
       "  '41 KiB',\n",
       "  '41.0 KiB',\n",
       "  '41.02 KiB',\n",
       "  '41.0 KiB (5%)'],\n",
       " 'proportion_of_this_stream': '0.05190',\n",
       " 'isstreamable': 'Yes',\n",
       " 'file_creation_date': 'UTC 2018-07-26 09:32:58.348',\n",
       " 'file_creation_date__local': '2018-07-26 19:32:58.348',\n",
       " 'file_last_modification_date': 'UTC 2018-07-26 09:32:58.395',\n",
       " 'file_last_modification_date__local': '2018-07-26 19:32:58.395',\n",
       " 'writing_application': 'Google',\n",
       " 'other_writing_application': ['Google'],\n",
       " 'writing_library': 'Google',\n",
       " 'other_writing_library': ['Google']}"
      ]
     },
     "execution_count": 9,
     "metadata": {},
     "output_type": "execute_result"
    }
   ],
   "source": [
    "data[\"tracks\"][0]"
   ]
  },
  {
   "cell_type": "code",
   "execution_count": 10,
   "metadata": {},
   "outputs": [
    {
     "data": {
      "text/plain": [
       "{'track_type': 'Video',\n",
       " 'count': '344',\n",
       " 'count_of_stream_of_this_kind': '1',\n",
       " 'kind_of_stream': 'Video',\n",
       " 'other_kind_of_stream': ['Video'],\n",
       " 'stream_identifier': '0',\n",
       " 'streamorder': '0',\n",
       " 'track_id': 1,\n",
       " 'other_track_id': ['1'],\n",
       " 'unique_id': '1',\n",
       " 'format': 'VP8',\n",
       " 'format_url': 'http://www.webmproject.org/',\n",
       " 'commercial_name': 'VP8',\n",
       " 'codec_id': 'V_VP8',\n",
       " 'codec_id_url': 'http://www.webmproject.org/',\n",
       " 'codec': 'V_VP8',\n",
       " 'other_codec': ['V_VP8'],\n",
       " 'duration': 8967,\n",
       " 'other_duration': ['8 s 967 ms',\n",
       "  '8 s 967 ms',\n",
       "  '8 s 967 ms',\n",
       "  '00:00:08.967',\n",
       "  '00:00:08:29',\n",
       "  '00:00:08.967 (00:00:08:29)'],\n",
       " 'bit_rate': 556601,\n",
       " 'other_bit_rate': ['557 kb/s'],\n",
       " 'width': 640,\n",
       " 'other_width': ['640 pixels'],\n",
       " 'height': 360,\n",
       " 'other_height': ['360 pixels'],\n",
       " 'pixel_aspect_ratio': '1.000',\n",
       " 'display_aspect_ratio': '1.778',\n",
       " 'other_display_aspect_ratio': ['16:9'],\n",
       " 'frame_rate_mode': 'CFR',\n",
       " 'other_frame_rate_mode': ['Constant'],\n",
       " 'frame_rate': '30.000',\n",
       " 'other_frame_rate': ['30.000 FPS'],\n",
       " 'frame_count': '269',\n",
       " 'compression_mode': 'Lossy',\n",
       " 'other_compression_mode': ['Lossy'],\n",
       " 'bits__pixel_frame': '0.081',\n",
       " 'delay': 25,\n",
       " 'other_delay': ['25 ms', '25 ms', '25 ms', '00:00:00.025'],\n",
       " 'delay__origin': 'Container',\n",
       " 'other_delay__origin': ['Container'],\n",
       " 'stream_size': 623857,\n",
       " 'other_stream_size': ['609 KiB (77%)',\n",
       "  '609 KiB',\n",
       "  '609 KiB',\n",
       "  '609 KiB',\n",
       "  '609.2 KiB',\n",
       "  '609 KiB (77%)'],\n",
       " 'proportion_of_this_stream': '0.77083',\n",
       " 'default': 'Yes',\n",
       " 'other_default': ['Yes'],\n",
       " 'forced': 'No',\n",
       " 'other_forced': ['No']}"
      ]
     },
     "execution_count": 10,
     "metadata": {},
     "output_type": "execute_result"
    }
   ],
   "source": [
    "data[\"tracks\"][1]"
   ]
  },
  {
   "cell_type": "code",
   "execution_count": 11,
   "metadata": {},
   "outputs": [
    {
     "data": {
      "text/plain": [
       "{'track_type': 'Audio',\n",
       " 'count': '275',\n",
       " 'count_of_stream_of_this_kind': '1',\n",
       " 'kind_of_stream': 'Audio',\n",
       " 'other_kind_of_stream': ['Audio'],\n",
       " 'stream_identifier': '0',\n",
       " 'streamorder': '1',\n",
       " 'track_id': 2,\n",
       " 'other_track_id': ['2'],\n",
       " 'unique_id': '2',\n",
       " 'format': 'Vorbis',\n",
       " 'format_url': 'http://www.vorbis.com/',\n",
       " 'commercial_name': 'Vorbis',\n",
       " 'format_settings__floor': '1',\n",
       " 'internet_media_type': 'audio/vorbis',\n",
       " 'codec_id': 'A_VORBIS',\n",
       " 'codec_id_url': 'http://www.vorbis.com',\n",
       " 'codec': 'Vorbis',\n",
       " 'other_codec': ['Vorbis'],\n",
       " 'codec_family': 'Vorbis',\n",
       " 'codec_url': 'http://www.vorbis.com',\n",
       " 'codec_settings__floor': '1',\n",
       " 'duration': 8967,\n",
       " 'other_duration': ['8 s 967 ms',\n",
       "  '8 s 967 ms',\n",
       "  '8 s 967 ms',\n",
       "  '00:00:08.967',\n",
       "  '00:00:08.967'],\n",
       " 'bit_rate_mode': 'VBR',\n",
       " 'other_bit_rate_mode': ['Variable'],\n",
       " 'bit_rate': 128000,\n",
       " 'other_bit_rate': ['128 kb/s'],\n",
       " 'channel_s': 2,\n",
       " 'other_channel_s': ['2 channels'],\n",
       " 'sampling_rate': 44100,\n",
       " 'other_sampling_rate': ['44.1 kHz'],\n",
       " 'samples_count': '395445',\n",
       " 'compression_mode': 'Lossy',\n",
       " 'other_compression_mode': ['Lossy'],\n",
       " 'delay': 0,\n",
       " 'other_delay': ['00:00:00.000'],\n",
       " 'delay__origin': 'Container',\n",
       " 'other_delay__origin': ['Container'],\n",
       " 'delay_relative_to_video': -25,\n",
       " 'other_delay_relative_to_video': ['-25 ms',\n",
       "  '-25 ms',\n",
       "  '-25 ms',\n",
       "  '-00:00:00.025'],\n",
       " 'video0_delay': -25,\n",
       " 'other_video0_delay': ['-25 ms', '-25 ms', '-25 ms', '-00:00:00.025'],\n",
       " 'stream_size': 143472,\n",
       " 'other_stream_size': ['140 KiB (18%)',\n",
       "  '140 KiB',\n",
       "  '140 KiB',\n",
       "  '140 KiB',\n",
       "  '140.1 KiB',\n",
       "  '140 KiB (18%)'],\n",
       " 'proportion_of_this_stream': '0.17727',\n",
       " 'writing_application': 'Google',\n",
       " 'other_writing_application': ['Google'],\n",
       " 'default': 'Yes',\n",
       " 'other_default': ['Yes'],\n",
       " 'forced': 'No',\n",
       " 'other_forced': ['No']}"
      ]
     },
     "execution_count": 11,
     "metadata": {},
     "output_type": "execute_result"
    }
   ],
   "source": [
    "data[\"tracks\"][2]"
   ]
  }
 ],
 "metadata": {
  "kernelspec": {
   "display_name": "Python 3",
   "language": "python",
   "name": "python3"
  },
  "language_info": {
   "codemirror_mode": {
    "name": "ipython",
    "version": 3
   },
   "file_extension": ".py",
   "mimetype": "text/x-python",
   "name": "python",
   "nbconvert_exporter": "python",
   "pygments_lexer": "ipython3",
   "version": "3.6.5"
  }
 },
 "nbformat": 4,
 "nbformat_minor": 2
}
